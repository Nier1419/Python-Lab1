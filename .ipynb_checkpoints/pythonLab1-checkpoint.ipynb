{
 "cells": [
  {
   "cell_type": "code",
   "execution_count": 1,
   "id": "4adfabca",
   "metadata": {},
   "outputs": [],
   "source": [
    "#assigning a variable to my favourite season\n",
    "winter=\"winter\"\n",
    "#int value\n",
    "x=1\n",
    "#float value\n",
    "y=1.0\n",
    "#assign 1 value to multiple variables\n",
    "a=b=c=\"letters\"\n",
    "#assign multiple values to multiple variables\n",
    "d, e, f=\"d\", \"e\", \"f\""
   ]
  },
  {
   "cell_type": "code",
   "execution_count": null,
   "id": "05c06eab",
   "metadata": {},
   "outputs": [],
   "source": []
  }
 ],
 "metadata": {
  "kernelspec": {
   "display_name": "Python 3 (ipykernel)",
   "language": "python",
   "name": "python3"
  },
  "language_info": {
   "codemirror_mode": {
    "name": "ipython",
    "version": 3
   },
   "file_extension": ".py",
   "mimetype": "text/x-python",
   "name": "python",
   "nbconvert_exporter": "python",
   "pygments_lexer": "ipython3",
   "version": "3.9.12"
  }
 },
 "nbformat": 4,
 "nbformat_minor": 5
}
